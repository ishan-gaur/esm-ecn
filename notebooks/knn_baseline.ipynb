{
 "cells": [
  {
   "cell_type": "code",
   "execution_count": 21,
   "metadata": {},
   "outputs": [],
   "source": [
    "from tqdm import tqdm\n",
    "import torch\n",
    "from torch.nn.functional import binary_cross_entropy\n",
    "from esm_ecn.data import train_data_loader, val_data_loader, test_data_loader\n",
    "from sklearn.metrics import f1_score\n",
    "from sklearn.metrics import precision_score, recall_score\n",
    "import matplotlib.pyplot as plt\n",
    "from esm_ecn.model import MLP\n",
    "from esm_ecn.train import load_best_checkpoint\n",
    "\n",
    "model_type = \"esmc_300m\"\n",
    "cls = True\n",
    "batch_size = 32"
   ]
  },
  {
   "cell_type": "code",
   "execution_count": 22,
   "metadata": {},
   "outputs": [
    {
     "name": "stdout",
     "output_type": "stream",
     "text": [
      "Loading train embeddings\n",
      "Loaded embeddings, shape: torch.Size([178302, 960])\n",
      "Loading train labels\n",
      "Loaded labels, shape: torch.Size([178302, 4793])\n",
      "Loading dev embeddings\n",
      "Loaded embeddings, shape: torch.Size([23010, 960])\n",
      "Loading dev labels\n",
      "Loaded labels, shape: torch.Size([23010, 4793])\n",
      "Loading test embeddings\n",
      "Loaded embeddings, shape: torch.Size([22183, 960])\n",
      "Loading test labels\n",
      "Loaded labels, shape: torch.Size([22183, 4793])\n"
     ]
    }
   ],
   "source": [
    "train_loader = train_data_loader(model_type, batch_size, cls)\n",
    "train_X, train_y = train_loader.dataset.tensors\n",
    "val_loader = val_data_loader(model_type, batch_size, cls)\n",
    "test_loader = test_data_loader(model_type, batch_size, cls)\n",
    "test_y = test_loader.dataset.tensors[1]\n",
    "train_X, train_y, test_y = train_X.cuda(), train_y.cuda().float(), test_y.cuda().float()"
   ]
  },
  {
   "cell_type": "code",
   "execution_count": 57,
   "metadata": {},
   "outputs": [],
   "source": [
    "def evaluate_model(y_hat, test_y, test_indices, thresholds=[0.001, 0.01, 0.1, 0.5, 0.9]):\n",
    "    y_hat_total = y_hat.sum(dim=1)\n",
    "    accuracy = torch.argmax(y_hat, dim=1).eq(test_y.argmax(dim=1)).float().mean().item()\n",
    "    print(f\"Accuracy: {accuracy}, Min total: {y_hat_total.min().item()}, Max total: {y_hat_total.max().item()}\")\n",
    "    for threshold in thresholds:\n",
    "        y_hat_binary = (y_hat > threshold).float()\n",
    "        test_y_binary = test_y.float()\n",
    "        y_hat_binary = y_hat_binary[:, test_indices]\n",
    "        test_y_binary = test_y_binary[:, test_indices]\n",
    "        \n",
    "        f1 = f1_score(test_y_binary.cpu().numpy(), y_hat_binary.cpu().numpy(), average='macro')\n",
    "        precision = precision_score(test_y_binary.cpu().numpy(), y_hat_binary.cpu().numpy(), average='macro')\n",
    "        recall = recall_score(test_y_binary.cpu().numpy(), y_hat_binary.cpu().numpy(), average='macro')\n",
    "        \n",
    "        print(f\"\\n\\tThreshold: {threshold}, F1 Score: {f1}, Precision: {precision}, Recall: {recall}\")\n"
   ]
  },
  {
   "cell_type": "markdown",
   "metadata": {},
   "source": [
    "# kNN using ESMC cls embeddings"
   ]
  },
  {
   "cell_type": "code",
   "execution_count": 58,
   "metadata": {},
   "outputs": [],
   "source": [
    "k = 10"
   ]
  },
  {
   "cell_type": "code",
   "execution_count": 59,
   "metadata": {},
   "outputs": [
    {
     "name": "stderr",
     "output_type": "stream",
     "text": [
      "100%|██████████| 694/694 [00:03<00:00, 194.12it/s]\n"
     ]
    },
    {
     "name": "stdout",
     "output_type": "stream",
     "text": [
      "tensor(0.0009, device='cuda:0')\n"
     ]
    }
   ],
   "source": [
    "\n",
    "y_hat = []\n",
    "for x, y in tqdm(test_loader):\n",
    "    dist = torch.cdist(x, train_X)\n",
    "    _, idx = dist.topk(k, dim=1, largest=False)\n",
    "    y_hat.append(train_y[idx].mean(dim=1))\n",
    "y_hat = torch.cat(y_hat)\n",
    "print(binary_cross_entropy(y_hat, test_y))\n"
   ]
  },
  {
   "cell_type": "code",
   "execution_count": 60,
   "metadata": {},
   "outputs": [
    {
     "name": "stdout",
     "output_type": "stream",
     "text": [
      "\n",
      "Accuracy: 0.8858585953712463, Min total: 1.0, Max total: 6.0\n",
      "\n",
      "\tThreshold: 0.001, F1 Score: 0.5824677571135342, Precision: 0.47980719067219535, Recall: 0.8653026308151763\n",
      "\n",
      "\tThreshold: 0.01, F1 Score: 0.5824677571135342, Precision: 0.47980719067219535, Recall: 0.8653026308151763\n",
      "\n",
      "\tThreshold: 0.1, F1 Score: 0.7083438129576068, Precision: 0.6642596534556124, Recall: 0.8169026478890907\n",
      "\n",
      "\tThreshold: 0.5, F1 Score: 0.6879775357164791, Precision: 0.7574234564871714, Recall: 0.6594183728802021\n",
      "\n",
      "\tThreshold: 0.9, F1 Score: 0.5909258427923845, Precision: 0.6926315271581659, Recall: 0.5431405184854445\n"
     ]
    }
   ],
   "source": [
    "import warnings\n",
    "from sklearn.exceptions import UndefinedMetricWarning\n",
    "\n",
    "warnings.filterwarnings(\"ignore\", category=UndefinedMetricWarning)\n",
    "\n",
    "print()\n",
    "\n",
    "test_indices = torch.nonzero(train_y.sum(dim=0) > 10).squeeze()\n",
    "evaluate_model(y_hat, test_y, test_indices)"
   ]
  },
  {
   "cell_type": "code",
   "execution_count": 61,
   "metadata": {},
   "outputs": [
    {
     "data": {
      "image/png": "[encoded data removed]",
      "text/plain": [
       "<Figure size 640x480 with 1 Axes>"
      ]
     },
     "metadata": {},
     "output_type": "display_data"
    }
   ],
   "source": [
    "class_counts = train_y.sum(dim=0)\n",
    "class_counts = torch.log10(class_counts + 0.001)\n",
    "plt.hist(class_counts.cpu().numpy(), bins=100)\n",
    "plt.show()"
   ]
  },
  {
   "cell_type": "markdown",
   "metadata": {},
   "source": [
    "# Sigmoid Results"
   ]
  },
  {
   "cell_type": "code",
   "execution_count": 62,
   "metadata": {},
   "outputs": [
    {
     "name": "stderr",
     "output_type": "stream",
     "text": [
      "/home/ishan/esm-ecn/src/esm_ecn/train.py:60: FutureWarning: You are using `torch.load` with `weights_only=False` (the current default value), which uses the default pickle module implicitly. It is possible to construct malicious pickle data which will execute arbitrary code during unpickling (See https://github.com/pytorch/pytorch/blob/main/SECURITY.md#untrusted-models for more details). In a future release, the default value for `weights_only` will be flipped to `True`. This limits the functions that could be executed during unpickling. Arbitrary objects will no longer be allowed to be loaded via this mode unless they are explicitly allowlisted by the user via `torch.serialization.add_safe_globals`. We recommend you start setting `weights_only=True` for any use case where you don't have full control of the loaded file. Please open an issue on GitHub for any issues related to this experimental feature.\n",
      "  checkpoint = torch.load(checkpoint_path)\n"
     ]
    }
   ],
   "source": [
    "\n",
    "mlp = MLP(input_dim=train_X.shape[1], output_dim=test_y.shape[1], sigmoid=True)\n",
    "model = load_best_checkpoint(\"9fk9o9hj\", mlp, focal_loss=False, lr=0.0001).cuda()"
   ]
  },
  {
   "cell_type": "code",
   "execution_count": 63,
   "metadata": {},
   "outputs": [
    {
     "name": "stderr",
     "output_type": "stream",
     "text": [
      "100%|██████████| 694/694 [00:00<00:00, 2119.07it/s]"
     ]
    },
    {
     "name": "stdout",
     "output_type": "stream",
     "text": [
      "tensor(0.0019, device='cuda:0')\n"
     ]
    },
    {
     "name": "stderr",
     "output_type": "stream",
     "text": [
      "\n"
     ]
    }
   ],
   "source": [
    "y_hat = []\n",
    "with torch.no_grad():\n",
    "    model.eval()\n",
    "    for x, y in tqdm(test_loader):\n",
    "        y_hat.append(model(x).detach())\n",
    "    y_hat = torch.cat(y_hat)\n",
    "print(binary_cross_entropy(y_hat, test_y))"
   ]
  },
  {
   "cell_type": "code",
   "execution_count": 64,
   "metadata": {},
   "outputs": [
    {
     "name": "stdout",
     "output_type": "stream",
     "text": [
      "Accuracy: 0.017130235210061073, Min total: 0.9763228297233582, Max total: 7.725608825683594\n",
      "\n",
      "\tThreshold: 0.001, F1 Score: 0.0013871767185567312, Precision: 0.0008126616238817055, Recall: 0.17653991897297616\n",
      "\n",
      "\tThreshold: 0.01, F1 Score: 0.0001275106137451681, Precision: 0.0002552323791953309, Recall: 0.0021418031328115945\n",
      "\n",
      "\tThreshold: 0.1, F1 Score: 0.0, Precision: 0.0, Recall: 0.0\n",
      "\n",
      "\tThreshold: 0.5, F1 Score: 0.0, Precision: 0.0, Recall: 0.0\n",
      "\n",
      "\tThreshold: 0.9, F1 Score: 0.0, Precision: 0.0, Recall: 0.0\n"
     ]
    }
   ],
   "source": [
    "evaluate_model(y_hat, test_y, test_indices)"
   ]
  },
  {
   "cell_type": "markdown",
   "metadata": {},
   "source": [
    "# Softmax Results"
   ]
  },
  {
   "cell_type": "code",
   "execution_count": 65,
   "metadata": {},
   "outputs": [
    {
     "name": "stderr",
     "output_type": "stream",
     "text": [
      "/home/ishan/esm-ecn/src/esm_ecn/train.py:60: FutureWarning: You are using `torch.load` with `weights_only=False` (the current default value), which uses the default pickle module implicitly. It is possible to construct malicious pickle data which will execute arbitrary code during unpickling (See https://github.com/pytorch/pytorch/blob/main/SECURITY.md#untrusted-models for more details). In a future release, the default value for `weights_only` will be flipped to `True`. This limits the functions that could be executed during unpickling. Arbitrary objects will no longer be allowed to be loaded via this mode unless they are explicitly allowlisted by the user via `torch.serialization.add_safe_globals`. We recommend you start setting `weights_only=True` for any use case where you don't have full control of the loaded file. Please open an issue on GitHub for any issues related to this experimental feature.\n",
      "  checkpoint = torch.load(checkpoint_path)\n"
     ]
    }
   ],
   "source": [
    "mlp = MLP(input_dim=train_X.shape[1], output_dim=test_y.shape[1], sigmoid=False)\n",
    "model = load_best_checkpoint(\"6b0eti2x\", mlp, focal_loss=False, lr=0.0001).cuda()"
   ]
  },
  {
   "cell_type": "code",
   "execution_count": 66,
   "metadata": {},
   "outputs": [
    {
     "name": "stderr",
     "output_type": "stream",
     "text": [
      "100%|██████████| 694/694 [00:00<00:00, 2415.75it/s]"
     ]
    },
    {
     "name": "stdout",
     "output_type": "stream",
     "text": [
      "tensor(8.3576, device='cuda:0')\n",
      "tensor(0.0012, device='cuda:0')\n"
     ]
    },
    {
     "name": "stderr",
     "output_type": "stream",
     "text": [
      "\n"
     ]
    }
   ],
   "source": [
    "y_hat = []\n",
    "with torch.no_grad():\n",
    "    model.eval()\n",
    "    for x, y in tqdm(test_loader):\n",
    "        y_hat.append(model(x).detach())\n",
    "    y_hat = torch.cat(y_hat)\n",
    "y_hat = torch.softmax(y_hat, dim=1)\n",
    "from torch.nn.functional import cross_entropy\n",
    "print(cross_entropy(y_hat, test_y.argmax(dim=1)))\n",
    "print(binary_cross_entropy(y_hat, test_y))"
   ]
  },
  {
   "cell_type": "code",
   "execution_count": 67,
   "metadata": {},
   "outputs": [
    {
     "name": "stdout",
     "output_type": "stream",
     "text": [
      "Accuracy: 0.3022134304046631, Min total: 0.9999997615814209, Max total: 1.000000238418579\n",
      "\n",
      "\tThreshold: 0.001, F1 Score: 0.013973076329401554, Precision: 0.007177023749389114, Recall: 0.7592439303401102\n",
      "\n",
      "\tThreshold: 0.01, F1 Score: 0.05200012313113331, Precision: 0.03485424011598886, Recall: 0.3953781755892908\n",
      "\n",
      "\tThreshold: 0.1, F1 Score: 0.07180003328565349, Precision: 0.0802311436159907, Recall: 0.09058268386525266\n",
      "\n",
      "\tThreshold: 0.5, F1 Score: 0.011126942107923858, Precision: 0.027591396173051, Recall: 0.008246897731435813\n",
      "\n",
      "\tThreshold: 0.9, F1 Score: 0.0009960993790057134, Precision: 0.002758583585498958, Recall: 0.000684950506232294\n"
     ]
    }
   ],
   "source": [
    "evaluate_model(y_hat, test_y, test_indices)"
   ]
  }
 ],
 "metadata": {
  "kernelspec": {
   "display_name": "ecn",
   "language": "python",
   "name": "python3"
  },
  "language_info": {
   "codemirror_mode": {
    "name": "ipython",
    "version": 3
   },
   "file_extension": ".py",
   "mimetype": "text/x-python",
   "name": "python",
   "nbconvert_exporter": "python",
   "pygments_lexer": "ipython3",
   "version": "3.10.16"
  }
 },
 "nbformat": 4,
 "nbformat_minor": 2
}
