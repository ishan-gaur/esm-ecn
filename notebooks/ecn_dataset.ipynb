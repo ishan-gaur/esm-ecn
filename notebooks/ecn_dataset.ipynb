{
 "cells": [
  {
   "cell_type": "code",
   "execution_count": 1,
   "metadata": {},
   "outputs": [
    {
     "name": "stderr",
     "output_type": "stream",
     "text": [
      "/home/ishan/miniforge3/envs/ecn/lib/python3.10/site-packages/tqdm/auto.py:21: TqdmWarning: IProgress not found. Please update jupyter and ipywidgets. See https://ipywidgets.readthedocs.io/en/stable/user_install.html\n",
      "  from .autonotebook import tqdm as notebook_tqdm\n"
     ]
    }
   ],
   "source": [
    "import torch\n",
    "import numpy as np\n",
    "from tqdm import tqdm\n",
    "from Bio import SeqIO\n",
    "from esm.models.esmc import ESMC\n",
    "from esm.models.esm3 import ESM3\n",
    "from esm.sdk.api import ESMProtein, ESMProteinTensor, LogitsConfig\n",
    "from esm.utils.sampling import _BatchedESMProteinTensor\n",
    "import matplotlib.pyplot as plt\n",
    "from datasets import load_dataset\n",
    "import random"
   ]
  },
  {
   "cell_type": "code",
   "execution_count": 2,
   "metadata": {},
   "outputs": [],
   "source": [
    "ds = load_dataset(\"lightonai/SwissProt-EC-leaf\")\n",
    "ds = ds.with_format(\"torch\")"
   ]
  },
  {
   "cell_type": "code",
   "execution_count": 3,
   "metadata": {},
   "outputs": [
    {
     "data": {
      "text/plain": [
       "dict_keys(['train', 'test', 'dev'])"
      ]
     },
     "execution_count": 3,
     "metadata": {},
     "output_type": "execute_result"
    }
   ],
   "source": [
    "ds.keys()"
   ]
  },
  {
   "cell_type": "code",
   "execution_count": 4,
   "metadata": {},
   "outputs": [
    {
     "data": {
      "text/plain": [
       "{'seq': 'MKFSEQWLRGWVSPQVDRDALVARLSMAGLEVDSVTPAAGVFSGVVVGEVLSTEQHPDADKLRVCQVSNGAETFQVVCGAPNVRPGLKIPFAMIGAELPGDFKIKKAKLRGVESNGMLCSQAELQIGEGNDGLMELPADASVGEDFRVYLDLEDASIEVDLTPNRGDCLSLAGLAREVGALYDAPVTRPVVMAVPAAHDEVRSVEVLAPAACPRYLGRVIRNVDLSRPTPLWMVERLRRAEVRSIDAAVDITNYVMLELGQPLHAFDLAEINGGIRVRMAEEGEKLVLLDGQEVSLRSDTLVVADHTRALAIAGVMGGEHSGVSATTRDVFLESAFFDQIAVAGKARSYGLHTDASHRYERGVDWQLAREAMERATGLLLEITGGEAGPIIETVSEQHLPSIAPITLRAQRITQMLGMEMDSAEVERLLNALGLKVSADGAGQWRVEVPSHRFDISLEVDLIEELARLYGYNRLPVRYPQARLAPQAKAEARSDLPELRRLLVARGYQEAITYSFIDPKQFELFNPGVEPLLLANPISNDMAAMRSSLWPGLVKALQHNLNRQQDRVRLFESGLRFVGQLEGLKQEPMIAGVVCGSRLPEGWAQGRDTVDFFDVKADVEAVLGFAGALDQFTFAPGKHPALHPGQTARIEREGREVGFIGAIHPELSKSLGLDRPVFVFELVLAEVALGKMPKFHELSRFPEVRRDLALIAHKDVAASAVLDVIRENAGEWLTDLRLFDVYQGKGIDTDRKSLAVGLTWQHPSRTLNDDEVNSTTQNILTSLEQRLNATLRK',\n",
       " 'labels': tensor([309]),\n",
       " 'labels_str': \"['EC:6.1.1.20']\",\n",
       " 'id': 'Q3KEX7'}"
      ]
     },
     "execution_count": 4,
     "metadata": {},
     "output_type": "execute_result"
    }
   ],
   "source": [
    "ds['train'][0]"
   ]
  },
  {
   "cell_type": "code",
   "execution_count": 5,
   "metadata": {},
   "outputs": [],
   "source": [
    "X_train, y_train = ds['train']['seq'], ds['train']['labels']"
   ]
  },
  {
   "cell_type": "code",
   "execution_count": 6,
   "metadata": {},
   "outputs": [
    {
     "data": {
      "text/plain": [
       "('MKFSEQWLRGWVSPQVDRDALVARLSMAGLEVDSVTPAAGVFSGVVVGEVLSTEQHPDADKLRVCQVSNGAETFQVVCGAPNVRPGLKIPFAMIGAELPGDFKIKKAKLRGVESNGMLCSQAELQIGEGNDGLMELPADASVGEDFRVYLDLEDASIEVDLTPNRGDCLSLAGLAREVGALYDAPVTRPVVMAVPAAHDEVRSVEVLAPAACPRYLGRVIRNVDLSRPTPLWMVERLRRAEVRSIDAAVDITNYVMLELGQPLHAFDLAEINGGIRVRMAEEGEKLVLLDGQEVSLRSDTLVVADHTRALAIAGVMGGEHSGVSATTRDVFLESAFFDQIAVAGKARSYGLHTDASHRYERGVDWQLAREAMERATGLLLEITGGEAGPIIETVSEQHLPSIAPITLRAQRITQMLGMEMDSAEVERLLNALGLKVSADGAGQWRVEVPSHRFDISLEVDLIEELARLYGYNRLPVRYPQARLAPQAKAEARSDLPELRRLLVARGYQEAITYSFIDPKQFELFNPGVEPLLLANPISNDMAAMRSSLWPGLVKALQHNLNRQQDRVRLFESGLRFVGQLEGLKQEPMIAGVVCGSRLPEGWAQGRDTVDFFDVKADVEAVLGFAGALDQFTFAPGKHPALHPGQTARIEREGREVGFIGAIHPELSKSLGLDRPVFVFELVLAEVALGKMPKFHELSRFPEVRRDLALIAHKDVAASAVLDVIRENAGEWLTDLRLFDVYQGKGIDTDRKSLAVGLTWQHPSRTLNDDEVNSTTQNILTSLEQRLNATLRK',\n",
       " 'MERKEIESLFTRAREIRALVIGDLMLDEYLWGKAERISPEAPVQVVDVTREDLRLGGAGNVVNNLVALGCQVAVCSVIGGDENGSHLRHAFTGKGVDLTGVFEDPLRLTSKKTRVIAANQQIVRIDRESRDEISLEFEEKVLDFIAAEAARFNVILVSDYLKGVLTPRVLEAVCAAGRRLGIPVVVDPKGSDYGKYRGATILTPNRKEAETASRMSIRTEEGLTRAAETLLAGLELDALLITRSEEGMSLFMQDGRTVHIPTVAREVYDVTGAGDTVLSVLSVGLACGLEFGEAARVANVAAGIAVGKLGTSTVSPGEIIAEIGHAHPDSDAKIKNLDALAAIVKAEKTRGKRLVFTNGCFDLLHVGHVKYLQKARTFGDLLVVGLNSDASVRRLKGAERPLIGEAERAHILAALDCVDFVVIFDEDTPLRLIETLQPQVLVKGGDYTPERVVGKEVVESYGGRVELVTFVDGKSTTNIIEKIRTGSIKE',\n",
       " tensor([309]),\n",
       " tensor([2528, 1833]))"
      ]
     },
     "execution_count": 6,
     "metadata": {},
     "output_type": "execute_result"
    }
   ],
   "source": [
    "X_train[0], X_train[14], y_train[0], y_train[14]"
   ]
  },
  {
   "cell_type": "code",
   "execution_count": 7,
   "metadata": {},
   "outputs": [],
   "source": [
    "y_max = max([y for y_list in y_train for y in y_list])\n",
    "y_train = [torch.nn.functional.one_hot(y, y_max+1).sum(0) for y in y_train]\n",
    "y_train = torch.stack(y_train)"
   ]
  },
  {
   "cell_type": "code",
   "execution_count": 9,
   "metadata": {},
   "outputs": [
    {
     "name": "stdout",
     "output_type": "stream",
     "text": [
      "178302 torch.Size([178302, 4793])\n"
     ]
    }
   ],
   "source": [
    "print(len(X_train), y_train.shape)"
   ]
  },
  {
   "cell_type": "code",
   "execution_count": 7,
   "metadata": {},
   "outputs": [
    {
     "data": {
      "text/plain": [
       "(tensor([[309]]),\n",
       " tensor([[1833],\n",
       "         [2528]]))"
      ]
     },
     "execution_count": 7,
     "metadata": {},
     "output_type": "execute_result"
    }
   ],
   "source": [
    "torch.nonzero(y_train[0]), torch.nonzero(y_train[14])"
   ]
  },
  {
   "cell_type": "markdown",
   "metadata": {},
   "source": [
    "Using ESM3 because if it works, we'd expect it to likely work with ESMC too. If it does work, then ESM3 preferable to be able to condition on sequence, structure, function, etc.\n",
    "Failure cases are if it doesn't work with ESM3 but does with ESMC and data leakage from ESM3's multimodal training.\n",
    "Leakage is likely real, so I need to do this with ESMC. Since they don't advertise it, the model probably doesn't work well for structure prediction, and topologically precise conditions for function probably aren't well modeled. The alternative is to get a new dataset of swissprot added since the old model was trained, and stratify for similarity maybe. Stratifying by similarity is probably necessary anyways, even for ESMC just to understand its impact."
   ]
  },
  {
   "cell_type": "code",
   "execution_count": 8,
   "metadata": {},
   "outputs": [
    {
     "name": "stderr",
     "output_type": "stream",
     "text": [
      "Fetching 4 files: 100%|██████████| 4/4 [00:00<00:00, 33354.31it/s]\n",
      "/home/ishan/miniforge3/envs/ecn/lib/python3.10/site-packages/esm/pretrained.py:74: FutureWarning: You are using `torch.load` with `weights_only=False` (the current default value), which uses the default pickle module implicitly. It is possible to construct malicious pickle data which will execute arbitrary code during unpickling (See https://github.com/pytorch/pytorch/blob/main/SECURITY.md#untrusted-models for more details). In a future release, the default value for `weights_only` will be flipped to `True`. This limits the functions that could be executed during unpickling. Arbitrary objects will no longer be allowed to be loaded via this mode unless they are explicitly allowlisted by the user via `torch.serialization.add_safe_globals`. We recommend you start setting `weights_only=True` for any use case where you don't have full control of the loaded file. Please open an issue on GitHub for any issues related to this experimental feature.\n",
      "  state_dict = torch.load(\n"
     ]
    }
   ],
   "source": [
    "esm = ESMC.from_pretrained(\"esmc_300m\").to(\"cuda\")"
   ]
  },
  {
   "cell_type": "code",
   "execution_count": 11,
   "metadata": {},
   "outputs": [],
   "source": [
    "def batched_protein_itr(X, y, batch_size=32):\n",
    "    for i in range(0, len(X), batch_size):\n",
    "        print(max([len(x) for x in X[i:i+batch_size]]))\n",
    "        y_batch = y[i:i+batch_size]\n",
    "        protein_sequences = [ESMProtein(sequence=x) for x in X[i:i+batch_size]]\n",
    "        encoded_proteins = [esm.encode(p) for p in protein_sequences]\n",
    "        batch_tensor = _BatchedESMProteinTensor(sequence=torch.stack([p.sequence for p in encoded_proteins]))\n",
    "        yield batch_tensor, y_batch"
   ]
  },
  {
   "cell_type": "code",
   "execution_count": 29,
   "metadata": {},
   "outputs": [
    {
     "name": "stderr",
     "output_type": "stream",
     "text": [
      "100%|██████████| 10000/10000 [03:42<00:00, 44.94it/s]\n"
     ]
    }
   ],
   "source": [
    "logits_config = LogitsConfig(sequence=True, return_embeddings=True)\n",
    "cls_embeddings = []\n",
    "res_avg_embeddings = []\n",
    "# for X_batch, y_batch in tqdm(batched_protein_itr(X_train, y_train)):\n",
    "n_samples = 10000\n",
    "sample_indices = random.sample(range(len(X_train)), n_samples)\n",
    "# sample_indices = torch.arange(len(X_train))\n",
    "for X_batch in tqdm([X_train[i] for i in sample_indices]):\n",
    "    encoded_X = esm.encode(ESMProtein(sequence=X_batch))\n",
    "    logits = esm.logits(encoded_X, logits_config)\n",
    "    cls_embeddings.append(logits.embeddings[:, 0]) # embedding dim 960\n",
    "    res_avg_embeddings.append(logits.embeddings[:, 1:-1].mean(1))\n",
    "cls_embeddings = torch.cat(cls_embeddings)\n",
    "res_avg_embeddings = torch.cat(res_avg_embeddings)\n",
    "y_samples = y_train[sample_indices]\n"
   ]
  },
  {
   "cell_type": "code",
   "execution_count": 31,
   "metadata": {},
   "outputs": [],
   "source": [
    "from esm_ecn.constants import DATA_FOLDER\n",
    "from pathlib import Path\n",
    "DATA_FOLDER = Path(DATA_FOLDER)\n",
    "torch.save(cls_embeddings, DATA_FOLDER / \"cls_embeddings.pt\")\n",
    "torch.save(res_avg_embeddings, DATA_FOLDER / \"res_avg_embeddings.pt\")\n",
    "torch.save(y_samples, DATA_FOLDER / \"y.pt\")"
   ]
  },
  {
   "cell_type": "code",
   "execution_count": 51,
   "metadata": {},
   "outputs": [
    {
     "name": "stdout",
     "output_type": "stream",
     "text": [
      "tensor([   1,   78,  102,  158,  502,  660,  666,  735,  929, 1007, 1395, 1436,\n",
      "        1697, 1847, 2015, 2602, 2634, 3556, 3605, 3807, 3974, 4116, 4928, 5173,\n",
      "        5323, 5558, 5671, 5797, 6688, 6878, 6918, 7020, 7344, 7710, 7868, 8673,\n",
      "        8751, 9029, 9300])\n"
     ]
    }
   ],
   "source": [
    "match_indices = [torch.equal(y_samples[i], y_samples[1]) for i in range(len(y_samples))]\n",
    "match_indices = torch.tensor(match_indices).nonzero().flatten()\n",
    "print(match_indices)"
   ]
  },
  {
   "cell_type": "code",
   "execution_count": 56,
   "metadata": {},
   "outputs": [
    {
     "data": {
      "image/png": "[encoded data removed]",
      "text/plain": [
       "<Figure size 640x480 with 1 Axes>"
      ]
     },
     "metadata": {},
     "output_type": "display_data"
    }
   ],
   "source": [
    "n_samples = len(match_indices)\n",
    "non_match_indices = list(filter(lambda i: i not in match_indices, np.arange(len(y_samples))))\n",
    "sample_indices = np.random.choice(non_match_indices, n_samples, replace=False)\n",
    "\n",
    "distances_match = torch.cdist(cls_embeddings[match_indices], cls_embeddings[match_indices])\n",
    "distances_non_match = torch.cdist(cls_embeddings[match_indices], cls_embeddings[sample_indices])\n",
    "\n",
    "plt.hist(distances_match.flatten().cpu().numpy(), bins=100, alpha=0.5, label=\"match\")\n",
    "plt.hist(distances_non_match.flatten().cpu().numpy(), bins=100, alpha=0.5, label=\"non-match\")\n",
    "plt.show()"
   ]
  },
  {
   "cell_type": "code",
   "execution_count": 57,
   "metadata": {},
   "outputs": [
    {
     "data": {
      "image/png": "[encoded data removed]",
      "text/plain": [
       "<Figure size 640x480 with 1 Axes>"
      ]
     },
     "metadata": {},
     "output_type": "display_data"
    }
   ],
   "source": [
    "distances_match = torch.cdist(res_avg_embeddings[match_indices], res_avg_embeddings[match_indices])\n",
    "distances_non_match = torch.cdist(res_avg_embeddings[match_indices], res_avg_embeddings[sample_indices])\n",
    "\n",
    "plt.hist(distances_match.flatten().cpu().numpy(), bins=100, alpha=0.5, label=\"match\")\n",
    "plt.hist(distances_non_match.flatten().cpu().numpy(), bins=100, alpha=0.5, label=\"non-match\")\n",
    "plt.show()"
   ]
  },
  {
   "cell_type": "code",
   "execution_count": null,
   "metadata": {},
   "outputs": [],
   "source": []
  }
 ],
 "metadata": {
  "kernelspec": {
   "display_name": "ecn",
   "language": "python",
   "name": "python3"
  },
  "language_info": {
   "codemirror_mode": {
    "name": "ipython",
    "version": 3
   },
   "file_extension": ".py",
   "mimetype": "text/x-python",
   "name": "python",
   "nbconvert_exporter": "python",
   "pygments_lexer": "ipython3",
   "version": "3.10.16"
  }
 },
 "nbformat": 4,
 "nbformat_minor": 2
}
